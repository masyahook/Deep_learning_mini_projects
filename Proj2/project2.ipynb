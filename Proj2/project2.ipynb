{
 "cells": [
  {
   "cell_type": "code",
   "execution_count": 2,
   "metadata": {},
   "outputs": [],
   "source": [
    "import math\n",
    "import matplotlib.pyplot as plt\n",
    "import torch\n",
    "import random\n",
    "torch.set_grad_enabled(False)\n",
    "\n",
    "%matplotlib inline"
   ]
  },
  {
   "cell_type": "code",
   "execution_count": 3,
   "metadata": {},
   "outputs": [],
   "source": [
    "class Module:\n",
    "    def __init__(self):\n",
    "        self.training = True\n",
    "    \n",
    "    def forward(self, *input):\n",
    "        raise NotImplementedError()\n",
    "    \n",
    "    def backward(self, *gradwrtoutput):\n",
    "        raise NotImplementedError()\n",
    "        \n",
    "    def param(self):\n",
    "        return []\n",
    "    \n",
    "    def train(self):\n",
    "        self.training = True\n",
    "    \n",
    "    def eval(self):\n",
    "        self.training = False"
   ]
  },
  {
   "cell_type": "code",
   "execution_count": 4,
   "metadata": {},
   "outputs": [],
   "source": [
    "class Linear(Module):\n",
    "    def __init__(self, n_in, n_out):\n",
    "        super().__init__()\n",
    "        \n",
    "        stdv = 1. / n_in ** 0.5\n",
    "        self.W = (torch.rand(n_out, n_in) - 0.5) * 2 * stdv\n",
    "        self.b = (torch.rand(n_out) - 0.5) * 2 * stdv\n",
    "        \n",
    "        self.gradW = torch.zeros_like(self.W)\n",
    "        self.gradb = torch.zeros_like(self.b)\n",
    "    \n",
    "    def forward(self, input):\n",
    "        self.input = input\n",
    "        \n",
    "        return input @ self.W.T + self.b\n",
    "    \n",
    "    def backward(self, gradwrtoutput):\n",
    "        self.gradW += (self.input[:, None, :] * gradwrtoutput[:, :, None]).sum(axis=0)\n",
    "        self.gradb += gradwrtoutput.sum(axis=0)\n",
    "        \n",
    "        return gradwrtoutput @ self.W\n",
    "        \n",
    "    def param(self):\n",
    "        return [(self.W, self.gradW), (self.b, self.gradb)]"
   ]
  },
  {
   "cell_type": "code",
   "execution_count": 45,
   "metadata": {},
   "outputs": [],
   "source": [
    "class Dropout(Module):\n",
    "    def __init__(self, p=0.5):\n",
    "        super().__init__()\n",
    "        self.p = p\n",
    "        \n",
    "    def forward(self, input):\n",
    "        if self.training and self.p < 1.:\n",
    "            self.mask = torch.bernoulli(torch.ones_like(input) - self.p)\n",
    "            return input * self.mask / (1 - self.p)\n",
    "        else:\n",
    "            return input\n",
    "        \n",
    "    def backward(self, gradwrtoutput):\n",
    "        if self.training and self.p < 1.:\n",
    "            return gradwrtoutput * self.mask / (1 - self.p)\n",
    "        else:\n",
    "            return gradwrtoutput"
   ]
  },
  {
   "cell_type": "code",
   "execution_count": 46,
   "metadata": {},
   "outputs": [],
   "source": [
    "class ReLU(Module):\n",
    "    def forward(self, input):\n",
    "        self.mask = input > 0\n",
    "        return input * self.mask\n",
    "    \n",
    "    def backward(self, gradwrtoutput):\n",
    "        return gradwrtoutput * self.mask"
   ]
  },
  {
   "cell_type": "code",
   "execution_count": 47,
   "metadata": {},
   "outputs": [],
   "source": [
    "class Tanh(Module):\n",
    "    def forward(self, input):\n",
    "        self.exp = torch.exp(input)\n",
    "        self.exp_minus = torch.exp(-input)\n",
    "        self.output = (self.exp - self.exp_minus) / (self.exp + self.exp_minus)\n",
    "        \n",
    "        return self.output\n",
    "    \n",
    "    def backward(self, gradwrtoutput):\n",
    "        return (1 - self.output ** 2) * gradwrtoutput"
   ]
  },
  {
   "cell_type": "code",
   "execution_count": 48,
   "metadata": {},
   "outputs": [],
   "source": [
    "class Sigmoid(Module):\n",
    "    def forward(self, input):\n",
    "        self.output = 1 / (1 + torch.exp(-input))\n",
    "        \n",
    "        return self.output\n",
    "    \n",
    "    def backward(self, gradwrtoutput):\n",
    "        return gradwrtoutput * self.output * (1 - self.output)"
   ]
  },
  {
   "cell_type": "code",
   "execution_count": 49,
   "metadata": {},
   "outputs": [],
   "source": [
    "class LossMSE(Module):\n",
    "    def forward(self, input, target):\n",
    "        self.diff = input - target\n",
    "        return (self.diff ** 2).sum() / input.shape[0]\n",
    "    \n",
    "    def backward(self):\n",
    "        return 2 * self.diff / self.diff.shape[0]"
   ]
  },
  {
   "cell_type": "code",
   "execution_count": 50,
   "metadata": {},
   "outputs": [],
   "source": [
    "class LossBCE(Module):\n",
    "    def __init__(self, eps=1e-7):\n",
    "        super().__init__()\n",
    "        self.EPS = eps\n",
    "        \n",
    "    def forward(self, input, target):\n",
    "        self.input = torch.clamp(input, self.EPS, 1 - self.EPS)\n",
    "        self.target = target\n",
    "        \n",
    "        return (-target * self.input.log() - (1-target) * (1-self.input).log()).sum() / self.input.shape[0]\n",
    "    \n",
    "    def backward(self):\n",
    "        return (-self.target / self.input + (1 - self.target) / (1 - self.input)) / self.input.shape[0]"
   ]
  },
  {
   "cell_type": "code",
   "execution_count": 51,
   "metadata": {},
   "outputs": [],
   "source": [
    "class Sequential(Module):\n",
    "    def __init__(self, modules):\n",
    "        super().__init__()\n",
    "        self.modules = modules\n",
    "    \n",
    "    def forward(self, input):\n",
    "        output = input\n",
    "        for module in self.modules:\n",
    "            output = module.forward(output)\n",
    "            \n",
    "        return output\n",
    "    \n",
    "    def backward(self, gradwrtoutput):\n",
    "        for module in self.modules[::-1]:\n",
    "            gradwrtoutput = module.backward(gradwrtoutput)\n",
    "        \n",
    "        return gradwrtoutput\n",
    "    \n",
    "    def param(self):\n",
    "        return [p for module in self.modules for p in module.param()]\n",
    "    \n",
    "    def train(self):\n",
    "        super().train()\n",
    "        \n",
    "        for module in self.modules:\n",
    "            module.train()\n",
    "            \n",
    "    def eval(self):\n",
    "        super().eval()\n",
    "        \n",
    "        for module in self.modules:\n",
    "            module.eval()"
   ]
  },
  {
   "cell_type": "code",
   "execution_count": 52,
   "metadata": {},
   "outputs": [],
   "source": [
    "class Optimizer:\n",
    "    def __init__(self, param):\n",
    "        self.param = param\n",
    "        \n",
    "    def step(self):\n",
    "        raise NotImplementedError()\n",
    "        \n",
    "    def zero_grad(self):\n",
    "        for _, g in self.param:\n",
    "            g[:] = 0."
   ]
  },
  {
   "cell_type": "code",
   "execution_count": 53,
   "metadata": {},
   "outputs": [],
   "source": [
    "class SGD(Optimizer):\n",
    "    def __init__(self, param, lr=1.):\n",
    "        super().__init__(param)\n",
    "        \n",
    "        self.lr = lr\n",
    "        \n",
    "    def step(self):\n",
    "        for p, grad in self.param:\n",
    "            p[:] = p - self.lr * grad"
   ]
  },
  {
   "cell_type": "code",
   "execution_count": 54,
   "metadata": {},
   "outputs": [],
   "source": [
    "def batchify(dataset, batch_size=1, shuffle=True):\n",
    "    X, y = dataset\n",
    "    order = list(range(len(y)))\n",
    "    \n",
    "    if shuffle:\n",
    "        random.shuffle(order)\n",
    "        \n",
    "    for start in range(0, len(order), batch_size):\n",
    "        batch_idx = order[start:start + batch_size]\n",
    "        \n",
    "        yield X[batch_idx], y[batch_idx]"
   ]
  },
  {
   "cell_type": "code",
   "execution_count": 55,
   "metadata": {},
   "outputs": [],
   "source": [
    "def generate_data(size):\n",
    "    x = torch.rand(size, 2)\n",
    "    y = (((x - 0.5) ** 2).sum(dim=1) <= 1 / (2 * math.pi)).int()\n",
    "    \n",
    "    return x, y"
   ]
  },
  {
   "cell_type": "code",
   "execution_count": 56,
   "metadata": {},
   "outputs": [],
   "source": [
    "X_train, y_train = generate_data(1000)\n",
    "X_test, y_test = generate_data(1000)"
   ]
  },
  {
   "cell_type": "code",
   "execution_count": 59,
   "metadata": {},
   "outputs": [],
   "source": [
    "net = Sequential([\n",
    "    Linear(2, 25),\n",
    "    ReLU(),\n",
    "    Linear(25, 25),\n",
    "    ReLU(),\n",
    "    Linear(25, 25),\n",
    "    ReLU(),\n",
    "    Linear(25, 1)\n",
    "])\n",
    "loss = LossMSE()\n",
    "opt = SGD(net.param(), lr=0.05)\n",
    "\n",
    "n_epochs = 200\n",
    "batch_size = 100\n",
    "train_mse = []\n",
    "test_acc = []\n",
    "\n",
    "for _ in range(n_epochs):\n",
    "    net.train()\n",
    "    for X, y in batchify((X_train, y_train), batch_size=batch_size):\n",
    "        opt.zero_grad()\n",
    "        pred = net.forward(X)\n",
    "        train_mse.append(loss.forward(pred, y.reshape(-1, 1)))\n",
    "        net.backward(loss.backward())\n",
    "        opt.step()\n",
    "        \n",
    "    net.eval()\n",
    "    acc = 0.\n",
    "    for X, y in batchify((X_test, y_test), batch_size=100):\n",
    "        pred = net.forward(X)\n",
    "        acc += ((pred.reshape(-1) > 0.5) == y).sum()\n",
    "    acc /= len(y_test)\n",
    "    test_acc.append(acc)"
   ]
  },
  {
   "cell_type": "code",
   "execution_count": 60,
   "metadata": {},
   "outputs": [
    {
     "data": {
      "image/png": "[encoded data removed]",
      "text/plain": [
       "<Figure size 432x288 with 1 Axes>"
      ]
     },
     "metadata": {
      "needs_background": "light"
     },
     "output_type": "display_data"
    },
    {
     "data": {
      "image/png": "[encoded data removed]",
      "text/plain": [
       "<Figure size 432x288 with 1 Axes>"
      ]
     },
     "metadata": {
      "needs_background": "light"
     },
     "output_type": "display_data"
    }
   ],
   "source": [
    "plt.plot(train_mse)\n",
    "plt.show()\n",
    "plt.plot(test_acc)\n",
    "plt.show()"
   ]
  },
  {
   "cell_type": "code",
   "execution_count": 400,
   "metadata": {},
   "outputs": [
    {
     "name": "stdout",
     "output_type": "stream",
     "text": [
      "0.9788\n"
     ]
    }
   ],
   "source": [
    "print(np.mean(test_acc[-10:]))"
   ]
  },
  {
   "cell_type": "code",
   "execution_count": 395,
   "metadata": {},
   "outputs": [],
   "source": [
    "net = Sequential([\n",
    "    Linear(2, 25),\n",
    "    ReLU(),\n",
    "    Linear(25, 25),\n",
    "    ReLU(),\n",
    "    Linear(25, 25),\n",
    "    ReLU(),\n",
    "    Linear(25, 1),\n",
    "    Sigmoid()\n",
    "])\n",
    "loss = LossBCE()\n",
    "opt = SGD(net.param(), lr=0.01)\n",
    "\n",
    "n_epochs = 2000\n",
    "batch_size = 100\n",
    "train_loss = []\n",
    "test_acc = []\n",
    "\n",
    "for _ in range(n_epochs):\n",
    "    net.train()\n",
    "    for X, y in batchify((X_train, y_train), batch_size=100):\n",
    "        opt.zero_grad()\n",
    "        pred = net.forward(X)\n",
    "        train_loss.append(loss.forward(pred, y.reshape(-1, 1)))\n",
    "        net.backward(loss.backward())\n",
    "        opt.step()\n",
    "        \n",
    "    net.eval()\n",
    "    acc = 0.\n",
    "    for X, y in batchify((X_test, y_test), batch_size=100):\n",
    "        pred = net.forward(X)\n",
    "        acc += ((pred.reshape(-1) > 0.5) == y).sum()\n",
    "    acc /= len(y_test)\n",
    "    test_acc.append(acc)"
   ]
  },
  {
   "cell_type": "code",
   "execution_count": 396,
   "metadata": {},
   "outputs": [
    {
     "data": {
      "image/png": "[encoded data removed]",
      "text/plain": [
       "<Figure size 432x288 with 1 Axes>"
      ]
     },
     "metadata": {
      "needs_background": "light"
     },
     "output_type": "display_data"
    },
    {
     "data": {
      "image/png": "[encoded data removed]",
      "text/plain": [
       "<Figure size 432x288 with 1 Axes>"
      ]
     },
     "metadata": {
      "needs_background": "light"
     },
     "output_type": "display_data"
    }
   ],
   "source": [
    "plt.plot(train_loss)\n",
    "plt.show()\n",
    "plt.plot(test_acc)\n",
    "plt.show()"
   ]
  },
  {
   "cell_type": "code",
   "execution_count": 397,
   "metadata": {},
   "outputs": [
    {
     "name": "stdout",
     "output_type": "stream",
     "text": [
      "0.98389995\n"
     ]
    }
   ],
   "source": [
    "print(np.mean(test_acc[-10:]))"
   ]
  },
  {
   "cell_type": "code",
   "execution_count": null,
   "metadata": {},
   "outputs": [],
   "source": []
  },
  {
   "cell_type": "code",
   "execution_count": 282,
   "metadata": {},
   "outputs": [],
   "source": [
    "X, y = generate_data(100)"
   ]
  },
  {
   "cell_type": "code",
   "execution_count": 283,
   "metadata": {},
   "outputs": [
    {
     "data": {
      "text/plain": [
       "<matplotlib.collections.PathCollection at 0x7f691d43f080>"
      ]
     },
     "execution_count": 283,
     "metadata": {},
     "output_type": "execute_result"
    },
    {
     "data": {
      "image/png": "[encoded data removed]",
      "text/plain": [
       "<Figure size 720x720 with 1 Axes>"
      ]
     },
     "metadata": {
      "needs_background": "light"
     },
     "output_type": "display_data"
    }
   ],
   "source": [
    "plt.figure(figsize=(10, 10))\n",
    "plt.scatter(*list(zip(*X.numpy())))"
   ]
  },
  {
   "cell_type": "code",
   "execution_count": 197,
   "metadata": {},
   "outputs": [
    {
     "data": {
      "image/png": "[encoded data removed]",
      "text/plain": [
       "<Figure size 720x720 with 1 Axes>"
      ]
     },
     "metadata": {
      "needs_background": "light"
     },
     "output_type": "display_data"
    }
   ],
   "source": [
    "import numpy as np\n",
    "\n",
    "plt.figure(figsize=(10, 10))\n",
    "plt.scatter(*list(zip(*X.numpy()[y.numpy()])))\n",
    "plt.scatter(*list(zip(*X.numpy()[np.logical_not(y.numpy())])))\n",
    "plt.show()"
   ]
  },
  {
   "cell_type": "code",
   "execution_count": 168,
   "metadata": {},
   "outputs": [],
   "source": [
    "x = Linear(2, 3)"
   ]
  },
  {
   "cell_type": "code",
   "execution_count": 153,
   "metadata": {},
   "outputs": [],
   "source": [
    "opt = SGD(x.param())"
   ]
  },
  {
   "cell_type": "code",
   "execution_count": 154,
   "metadata": {},
   "outputs": [],
   "source": [
    "inp = torch.rand(2, 2)"
   ]
  },
  {
   "cell_type": "code",
   "execution_count": 155,
   "metadata": {},
   "outputs": [
    {
     "name": "stdout",
     "output_type": "stream",
     "text": [
      "tensor([[ 0.4123, -1.2918, -0.6931],\n",
      "        [ 0.3759, -1.3442, -0.7828]])\n",
      "tensor([[0.9634, 0.6435],\n",
      "        [1.0310, 0.6604]])\n"
     ]
    }
   ],
   "source": [
    "y = x.forward(inp)\n",
    "print(y)\n",
    "z = x.backward(y)\n",
    "print(z)"
   ]
  },
  {
   "cell_type": "code",
   "execution_count": 156,
   "metadata": {},
   "outputs": [
    {
     "data": {
      "text/plain": [
       "[(tensor([[-0.1509,  0.0273],\n",
       "          [-0.6152, -0.5570],\n",
       "          [-0.3330,  0.1259]]), tensor([[ 0.5034,  0.4918],\n",
       "          [-1.7023, -1.6323],\n",
       "          [-0.9597, -0.9097]])),\n",
       " (tensor([ 0.4743, -0.5762, -0.6018]), tensor([ 0.7882, -2.6359, -1.4760]))]"
      ]
     },
     "execution_count": 156,
     "metadata": {},
     "output_type": "execute_result"
    }
   ],
   "source": [
    "x.param()"
   ]
  },
  {
   "cell_type": "code",
   "execution_count": 157,
   "metadata": {},
   "outputs": [
    {
     "data": {
      "text/plain": [
       "[(tensor([[-0.1509,  0.0273],\n",
       "          [-0.6152, -0.5570],\n",
       "          [-0.3330,  0.1259]]), tensor([[0., 0.],\n",
       "          [0., 0.],\n",
       "          [0., 0.]])),\n",
       " (tensor([ 0.4743, -0.5762, -0.6018]), tensor([0., 0., 0.]))]"
      ]
     },
     "execution_count": 157,
     "metadata": {},
     "output_type": "execute_result"
    }
   ],
   "source": [
    "opt.zero_grad()\n",
    "x.param()"
   ]
  },
  {
   "cell_type": "code",
   "execution_count": 128,
   "metadata": {},
   "outputs": [
    {
     "data": {
      "text/plain": [
       "[(tensor([[0., 0.],\n",
       "          [0., 0.],\n",
       "          [0., 0.]]), tensor([[0., 0.],\n",
       "          [0., 0.],\n",
       "          [0., 0.]])), (tensor([0., 0., 0.]), tensor([0., 0., 0.]))]"
      ]
     },
     "execution_count": 128,
     "metadata": {},
     "output_type": "execute_result"
    }
   ],
   "source": [
    "opt.param"
   ]
  },
  {
   "cell_type": "code",
   "execution_count": 293,
   "metadata": {},
   "outputs": [],
   "source": [
    "x = torch.rand(2, 3)\n",
    "y = torch.rand(2, 4)"
   ]
  },
  {
   "cell_type": "code",
   "execution_count": 295,
   "metadata": {},
   "outputs": [
    {
     "data": {
      "text/plain": [
       "tensor([[-1.1882, -0.6636, -1.3238],\n",
       "        [-0.3836, -0.3140, -1.3192]])"
      ]
     },
     "execution_count": 295,
     "metadata": {},
     "output_type": "execute_result"
    }
   ],
   "source": [
    "x.log()"
   ]
  },
  {
   "cell_type": "code",
   "execution_count": 102,
   "metadata": {},
   "outputs": [
    {
     "data": {
      "text/plain": [
       "tensor([[0.3806, 1.0598, 1.0172],\n",
       "        [0.9166, 1.4628, 0.9720]])"
      ]
     },
     "execution_count": 102,
     "metadata": {},
     "output_type": "execute_result"
    }
   ],
   "source": [
    "(x[:, None, :] * y[:, :, None]).sum(axis=1)"
   ]
  },
  {
   "cell_type": "code",
   "execution_count": 20,
   "metadata": {},
   "outputs": [
    {
     "ename": "RuntimeError",
     "evalue": "size mismatch, m1: [2 x 3], m2: [4 x 2] at /pytorch/aten/src/TH/generic/THTensorMath.cpp:197",
     "output_type": "error",
     "traceback": [
      "\u001b[0;31m---------------------------------------------------------------------------\u001b[0m",
      "\u001b[0;31mRuntimeError\u001b[0m                              Traceback (most recent call last)",
      "\u001b[0;32m<ipython-input-20-93e7ead1fcb9>\u001b[0m in \u001b[0;36m<module>\u001b[0;34m\u001b[0m\n\u001b[0;32m----> 1\u001b[0;31m \u001b[0mx\u001b[0m \u001b[0;34m@\u001b[0m \u001b[0my\u001b[0m\u001b[0;34m.\u001b[0m\u001b[0mT\u001b[0m\u001b[0;34m\u001b[0m\u001b[0;34m\u001b[0m\u001b[0m\n\u001b[0m",
      "\u001b[0;31mRuntimeError\u001b[0m: size mismatch, m1: [2 x 3], m2: [4 x 2] at /pytorch/aten/src/TH/generic/THTensorMath.cpp:197"
     ]
    }
   ],
   "source": [
    "x @ y.T"
   ]
  },
  {
   "cell_type": "code",
   "execution_count": null,
   "metadata": {},
   "outputs": [],
   "source": []
  }
 ],
 "metadata": {
  "kernelspec": {
   "display_name": "Python 3",
   "language": "python",
   "name": "python3"
  },
  "language_info": {
   "codemirror_mode": {
    "name": "ipython",
    "version": 3
   },
   "file_extension": ".py",
   "mimetype": "text/x-python",
   "name": "python",
   "nbconvert_exporter": "python",
   "pygments_lexer": "ipython3",
   "version": "3.6.9"
  }
 },
 "nbformat": 4,
 "nbformat_minor": 2
}
